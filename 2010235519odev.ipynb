{
 "cells": [
  {
   "cell_type": "markdown",
   "id": "e182812e",
   "metadata": {},
   "source": [
    "## Power formula \n",
    "In this formula, F for force applied In the object, s for displacement of the object and t for the total time taken.\n",
    "It states that the total time taken by an object to displace from one place to another when an external force is applied to it is called power.\n",
    "The formula of power is different for different fields as mentioned above, but its meaning remains almost the same for all.\n",
    "As we know,\n",
    "Power = Work done upon time\n",
    "P = w/t\n",
    "Work = Force ( F ) × Displacement(s)\n",
    "P = F × s/t\n",
    "Here:\n",
    "P = Power.\n",
    "F = Force applied on the body.\n",
    "W = Work done by the body.\n",
    "t = Total time taken.\n",
    "s = Total displacement of the body.\n"
   ]
  },
  {
   "cell_type": "code",
   "execution_count": 4,
   "id": "404f5bbb",
   "metadata": {},
   "outputs": [
    {
     "name": "stdout",
     "output_type": "stream",
     "text": [
      "enter a number for force 10\n",
      "enter a number for speed 2\n",
      "enter a number for time6\n",
      "the numer stand for watt is 3.3333333333333335\n"
     ]
    }
   ],
   "source": [
    "Force =int(input(\"enter a number for force \"))\n",
    "speed =int(input(\"enter a number for speed \"))\n",
    "time =int(input(\"enter a number for time\"))\n",
    "P=Force * speed/time\n",
    "print(\"the numer stand for watt is\",P)"
   ]
  },
  {
   "cell_type": "markdown",
   "id": "369046c4",
   "metadata": {},
   "source": [
    "## The Area for the Triangle \n",
    "Here as shwon as below we will culacte the area of triangle.\n",
    "Area of a triangle = (s*(s-a)*(s-b)*(s-c))-1/2\n",
    "Here is the semi-perimeter and a, b and c are three sides of the triangle.\n",
    "a = for the first side.\n",
    "b = for the second side.\n",
    "c = for the thired side.\n",
    "\n"
   ]
  },
  {
   "cell_type": "code",
   "execution_count": 5,
   "id": "d2e96d5c",
   "metadata": {},
   "outputs": [
    {
     "name": "stdout",
     "output_type": "stream",
     "text": [
      "Enter first side: 20\n",
      "Enter second side: 25\n",
      "Enter third side: 13\n",
      "The area of the triangle is 129.24\n"
     ]
    }
   ],
   "source": [
    "a = float(input('Enter first side: '))  \n",
    "b = float(input('Enter second side: '))  \n",
    "c = float(input('Enter third side: '))  \n",
    "  \n",
    "# calculate the semi-perimeter  \n",
    "s = (a + b + c) / 2  \n",
    "  \n",
    "# calculate the area  \n",
    "area = (s*(s-a)*(s-b)*(s-c)) ** 0.5  \n",
    "print('The area of the triangle is %0.2f' %area) \n"
   ]
  },
  {
   "cell_type": "markdown",
   "id": "4e9c118e",
   "metadata": {},
   "source": [
    "##  Find Diameter, Circumference and Area Of a Circle\n",
    "we use the formula in below to  find diameter, circumference and area of a circle in the easy way byusing he length of the radius.\n",
    "\n"
   ]
  },
  {
   "cell_type": "code",
   "execution_count": 10,
   "id": "66a24c88",
   "metadata": {},
   "outputs": [
    {
     "name": "stdout",
     "output_type": "stream",
     "text": [
      " please enter the radius of a circle: 2\n",
      " \n",
      "Diameter of a circle = 4.00\n",
      " Circumference of a circle = 12.56\n",
      " Area of a circle = 12.56\n"
     ]
    }
   ],
   "source": [
    "pi = 3.14 \n",
    "radius = float(input(\" please enter the radius of a circle: \")) \n",
    "diameter = 2 * radius \n",
    "circumference = 2 * pi * radius \n",
    "area = pi * radius * radius \n",
    "print(\" \\nDiameter of a circle = %.2f\" %diameter)\n",
    "print(\" Circumference of a circle = %.2f\" %circumference)\n",
    "print(\" Area of a circle = %.2f\" %area)\n",
    "\n",
    "\n",
    "\n"
   ]
  },
  {
   "cell_type": "code",
   "execution_count": null,
   "id": "1a124897",
   "metadata": {},
   "outputs": [],
   "source": []
  }
 ],
 "metadata": {
  "kernelspec": {
   "display_name": "Python 3 (ipykernel)",
   "language": "python",
   "name": "python3"
  },
  "language_info": {
   "codemirror_mode": {
    "name": "ipython",
    "version": 3
   },
   "file_extension": ".py",
   "mimetype": "text/x-python",
   "name": "python",
   "nbconvert_exporter": "python",
   "pygments_lexer": "ipython3",
   "version": "3.9.12"
  }
 },
 "nbformat": 4,
 "nbformat_minor": 5
}
